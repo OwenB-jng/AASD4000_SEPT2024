{
 "cells": [
  {
   "cell_type": "code",
   "execution_count": 1,
   "metadata": {},
   "outputs": [
    {
     "name": "stdout",
     "output_type": "stream",
     "text": [
      "Requirement already satisfied: beautifulsoup4 in c:\\users\\owen\\appdata\\local\\programs\\python\\python310\\lib\\site-packages (4.12.3)Note: you may need to restart the kernel to use updated packages.\n",
      "\n",
      "Requirement already satisfied: soupsieve>1.2 in c:\\users\\owen\\appdata\\local\\programs\\python\\python310\\lib\\site-packages (from beautifulsoup4) (2.6)\n"
     ]
    },
    {
     "name": "stderr",
     "output_type": "stream",
     "text": [
      "WARNING: You are using pip version 21.2.4; however, version 24.2 is available.\n",
      "You should consider upgrading via the 'c:\\Users\\Owen\\AppData\\Local\\Programs\\Python\\Python310\\python.exe -m pip install --upgrade pip' command.\n"
     ]
    }
   ],
   "source": [
    "# each import statement, including an install for beautiful soup in case the user does not have it installed\n",
    "import os\n",
    "import requests\n",
    "%pip install beautifulsoup4\n",
    "from bs4 import BeautifulSoup"
   ]
  },
  {
   "cell_type": "code",
   "execution_count": 2,
   "metadata": {},
   "outputs": [],
   "source": [
    "# collecting a url, and parsing the html with beautiful soup\n",
    "url = \"https://www.space.com/15584-solar-eclipses.html\"\n",
    "\n",
    "response = requests.get(url)\n",
    "\n",
    "soup = BeautifulSoup(response.content, 'html.parser')"
   ]
  },
  {
   "cell_type": "code",
   "execution_count": 3,
   "metadata": {},
   "outputs": [],
   "source": [
    "# search for article text via the <p> tag\n",
    "scraped_text = \"\"\n",
    "for paragraph in soup.find_all('p'):\n",
    "    scraped_text += paragraph.get_text() + \"\\n\""
   ]
  },
  {
   "cell_type": "code",
   "execution_count": 4,
   "metadata": {},
   "outputs": [
    {
     "name": "stdout",
     "output_type": "stream",
     "text": [
      "Atricle scraped_articles\\scraped_article.txt saved to scraped_articles\n"
     ]
    }
   ],
   "source": [
    "# placing the text in the created target directory in a txt file\n",
    "output_directory = \"scraped_articles\"\n",
    "if not os.path.exists(output_directory):\n",
    "    os.makedirs(output_directory)\n",
    "\n",
    "file_path = os.path.join(output_directory, \"scraped_article.txt\")\n",
    "\n",
    "with open(file_path, \"a\", encoding=\"utf-8\") as file:\n",
    "    file.write(scraped_text + \"\\n\" + (\"-\" * 40) + \"\\n\")\n",
    "\n",
    "print(f\"Atricle {file_path} saved to scraped_articles\")"
   ]
  }
 ],
 "metadata": {
  "kernelspec": {
   "display_name": "Python 3",
   "language": "python",
   "name": "python3"
  },
  "language_info": {
   "codemirror_mode": {
    "name": "ipython",
    "version": 3
   },
   "file_extension": ".py",
   "mimetype": "text/x-python",
   "name": "python",
   "nbconvert_exporter": "python",
   "pygments_lexer": "ipython3",
   "version": "3.10.1"
  }
 },
 "nbformat": 4,
 "nbformat_minor": 2
}
